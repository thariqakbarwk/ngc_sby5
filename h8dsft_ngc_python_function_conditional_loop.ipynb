{
 "cells": [
  {
   "cell_type": "markdown",
   "metadata": {},
   "source": [
    "# TASK 1 - Number Of Word"
   ]
  },
  {
   "cell_type": "markdown",
   "metadata": {},
   "source": [
    "Create a function that count the number of word in a sentence.\n",
    "\n",
    "Instruction:\n",
    "\n",
    "    1.Create function called `number_of_word`.\n",
    "    2.This function takes 1 input, `sentence`.\n",
    "    3.Inside this function, you can utilize `.split()` method to split the sentence into list of word(s).\n",
    "    4.Also, `len()` function to count the element inside a list.\n",
    "    5.Return the number of word from the sentence\n",
    "\n",
    "Example:\n",
    "\n",
    "    -Input: number_of_word(sentence = ’Hello World!’)\n",
    "    -Output: 2\n",
    "\n",
    "    -Input: number_of_word(sentence = ’Once Upon a Time in a faraway land’)\n",
    "    -Output: 8\n"
   ]
  },
  {
   "cell_type": "code",
   "execution_count": 38,
   "metadata": {},
   "outputs": [],
   "source": [
    "# Function\n",
    "\n",
    "def number_of_word(sentence):       # Nama fungsi: number_of_word ; Argumen: sentence\n",
    "    print(len(sentence.split()))    # Output akan menampilkan jumlah kata \n"
   ]
  },
  {
   "cell_type": "code",
   "execution_count": 49,
   "metadata": {},
   "outputs": [
    {
     "data": {
      "text/plain": [
       "2"
      ]
     },
     "execution_count": 49,
     "metadata": {},
     "output_type": "execute_result"
    }
   ],
   "source": [
    "# Pemanggilan data\n",
    "\n",
    "number_of_word(\"Hello World!\")"
   ]
  },
  {
   "cell_type": "code",
   "execution_count": 50,
   "metadata": {},
   "outputs": [
    {
     "data": {
      "text/plain": [
       "8"
      ]
     },
     "execution_count": 50,
     "metadata": {},
     "output_type": "execute_result"
    }
   ],
   "source": [
    "number_of_word(\"Once Upon a Time in a faraway land\")"
   ]
  },
  {
   "cell_type": "code",
   "execution_count": 41,
   "metadata": {},
   "outputs": [],
   "source": [
    "# Return \n",
    "\n",
    "def number_of_word(sentence):       \n",
    "    jumlah = (len(sentence.split()))\n",
    "    return jumlah"
   ]
  },
  {
   "cell_type": "code",
   "execution_count": 51,
   "metadata": {},
   "outputs": [
    {
     "data": {
      "text/plain": [
       "2"
      ]
     },
     "execution_count": 51,
     "metadata": {},
     "output_type": "execute_result"
    }
   ],
   "source": [
    "# Pemanggilan data\n",
    "number_of_word(\"Hello World!\")"
   ]
  },
  {
   "cell_type": "code",
   "execution_count": 46,
   "metadata": {},
   "outputs": [
    {
     "data": {
      "text/plain": [
       "8"
      ]
     },
     "execution_count": 46,
     "metadata": {},
     "output_type": "execute_result"
    }
   ],
   "source": [
    "number_of_word(\"Once Upon a Time in a faraway land\")"
   ]
  },
  {
   "cell_type": "markdown",
   "metadata": {},
   "source": [
    "# TASK 2 - Find Multiple"
   ]
  },
  {
   "cell_type": "markdown",
   "metadata": {},
   "source": [
    "Create a function that will get list of number(s) from a certain range that multiples of given number.\n",
    "Instruction:\n",
    "\n",
    "        1.Create function called `find_multiples`.\n",
    "        2.This function takes 3 input: `start_range`, `end_range`, and `multiple`.\n",
    "        3.From every number within the given range, check if that number is the mutliples of `multiple`.\n",
    "        4.Return list of the possible multiple number(s).\n",
    "\n",
    "Example:\n",
    "\n",
    "        -Input: find_multiple(start_range= 1, end_range= 20, multiple= 5)\n",
    "        -Output: [5, 10, 15, 20]\n",
    "\n",
    "        -Input: find_multiple(start_range= 1, end_range= 50, multiple= 10)\n",
    "        -Output: [10, 20, 30, 40, 50]\n"
   ]
  },
  {
   "cell_type": "code",
   "execution_count": 122,
   "metadata": {},
   "outputs": [
    {
     "ename": "SyntaxError",
     "evalue": "expected ':' (3937547054.py, line 4)",
     "output_type": "error",
     "traceback": [
      "\u001b[1;36m  Cell \u001b[1;32mIn[122], line 4\u001b[1;36m\u001b[0m\n\u001b[1;33m    for i in range(start_range, end_range)\u001b[0m\n\u001b[1;37m                                          ^\u001b[0m\n\u001b[1;31mSyntaxError\u001b[0m\u001b[1;31m:\u001b[0m expected ':'\n"
     ]
    }
   ],
   "source": [
    "# Sintaks \n",
    "\n",
    "def find_multiples(start_range, end_range, multiple):\n",
    "    for i in range(start_range, end_range)\n",
    "        if i % multiple == 0:\n",
    "            print(i, end=\" \")\n"
   ]
  },
  {
   "cell_type": "code",
   "execution_count": 119,
   "metadata": {},
   "outputs": [
    {
     "ename": "NameError",
     "evalue": "name 'end' is not defined",
     "output_type": "error",
     "traceback": [
      "\u001b[1;31m---------------------------------------------------------------------------\u001b[0m",
      "\u001b[1;31mNameError\u001b[0m                                 Traceback (most recent call last)",
      "Cell \u001b[1;32mIn[119], line 1\u001b[0m\n\u001b[1;32m----> 1\u001b[0m \u001b[43mfind_multiples\u001b[49m\u001b[43m(\u001b[49m\u001b[43mstart_range\u001b[49m\u001b[38;5;241;43m=\u001b[39;49m\u001b[43m \u001b[49m\u001b[38;5;241;43m1\u001b[39;49m\u001b[43m,\u001b[49m\u001b[43m \u001b[49m\u001b[43mend_range\u001b[49m\u001b[38;5;241;43m=\u001b[39;49m\u001b[38;5;241;43m20\u001b[39;49m\u001b[43m,\u001b[49m\u001b[43m \u001b[49m\u001b[43mmultiple\u001b[49m\u001b[38;5;241;43m=\u001b[39;49m\u001b[43m \u001b[49m\u001b[38;5;241;43m5\u001b[39;49m\u001b[43m)\u001b[49m\n",
      "Cell \u001b[1;32mIn[117], line 4\u001b[0m, in \u001b[0;36mfind_multiples\u001b[1;34m(start_range, end_range, multiple)\u001b[0m\n\u001b[0;32m      3\u001b[0m \u001b[38;5;28;01mdef\u001b[39;00m \u001b[38;5;21mfind_multiples\u001b[39m(start_range, end_range, multiple):\n\u001b[1;32m----> 4\u001b[0m     \u001b[38;5;28;01mfor\u001b[39;00m i \u001b[38;5;129;01min\u001b[39;00m \u001b[38;5;28mrange\u001b[39m(start_range, end_range, \u001b[43mend\u001b[49m):\n\u001b[0;32m      5\u001b[0m         \u001b[38;5;28;01mif\u001b[39;00m i \u001b[38;5;241m%\u001b[39m multiple \u001b[38;5;241m==\u001b[39m \u001b[38;5;241m0\u001b[39m:\n\u001b[0;32m      6\u001b[0m             \u001b[38;5;28mprint\u001b[39m(i, end\u001b[38;5;241m=\u001b[39m\u001b[38;5;124m\"\u001b[39m\u001b[38;5;124m \u001b[39m\u001b[38;5;124m\"\u001b[39m)\n",
      "\u001b[1;31mNameError\u001b[0m: name 'end' is not defined"
     ]
    }
   ],
   "source": [
    "find_multiples(start_range= 1, end_range=20, multiple= 5)"
   ]
  },
  {
   "cell_type": "markdown",
   "metadata": {},
   "source": [
    "# TASK 3 - Grade Converter"
   ]
  },
  {
   "cell_type": "markdown",
   "metadata": {},
   "source": [
    "Instruction:\n",
    "\n",
    "    1.Create function called `Grade_Converter`.\n",
    "    2.This function takes input: `convert_to` and n-paired of student(s) name with its respective score.\n",
    "    3.Input argument for `convert_to` is either `letter_grade` or `gpa`.\n",
    "    4.You can utilize **kwargs input argument to generate n-length paired of student(s) name with its respective score (Dictionary).\n",
    "    5.This function will return dictionary of student’s name along with converted Letter Grade or GPA, depending on user input in `convert_to` parameter\n",
    "\n",
    "| Score | Letter Grade | GPA 4.0 Scale |\n",
    "| - | - | - |\n",
    "| 85 - 100 | A | 4 |\n",
    "| 70 - 84,99 | B | 3 |\n",
    "| 60 - 69,99 | C | 2.5 |\n",
    "| 50 - 59,99 | D | 2 |\n",
    "| 40 - 49,99 | E | 1.5 |\n",
    "| 50 - 39,99 | F | 1 |\n",
    "\n",
    "Create a function that will convert student’s grade to GPA\n",
    "\n",
    "Example:\n",
    "\n",
    "    -Input: Grade_Converter(convert_to='gpa', Adam=62, Faiz=91)\n",
    "    -Output: {'Adam': 2.5, 'Faiz': 4}\n",
    "    -Input: Grade_Converter(convert_to='letter_grade', Albert=90, Dwi=82, Syahdan=58, Veronica=84)\n",
    "    -Output: {'Albert': 'A', 'Dwi': 'B', 'Syahdan': 'D','Veronica': 'B'}\n",
    "\n",
    "| Score | Letter Grade | GPA 4.0 Scale |\n",
    "| - | - | - |\n",
    "| 85 - 100 | A | 4 |\n",
    "| 70 - 84,99 | B | 3 |\n",
    "| 60 - 69,99 | C | 2.5 |\n",
    "| 50 - 59,99 | D | 2 |\n",
    "| 40 - 49,99 | E | 1.5 |\n",
    "| 50 - 39,99 | F | 1 |"
   ]
  },
  {
   "cell_type": "markdown",
   "metadata": {},
   "source": [
    "# TASK 4 - Fibonacci Sequence"
   ]
  },
  {
   "cell_type": "markdown",
   "metadata": {},
   "source": [
    "Fibonacci sequence is a sequence in which each number is the sum of the two preceding ones. Suppose we have fibonacci sequence started with:\n",
    "\n",
    "                0, 1, 1, 2, 3, 5, ...\n",
    "\n",
    "The next number should be **8** or sum of the two precedings, 3 and 5:\n",
    "\n",
    "                0, 1, 1, 2, 3, 5, 8, ...\n",
    "\n",
    "Then the next number should be **13** or sum of the two precedings, 5 and 8:\n",
    "\n",
    "                0, 1, 1, 2, 3, 5, 8, 13,  ...And so on\n",
    "\n",
    "create a function that will return the value of n-th fibonacci number.\n",
    "\n",
    "Instruction:\n",
    "\n",
    "        1.The function will take 1 input parameter, n, represents the asked number from our fibonacci sequence index.\n",
    "        2.The fibonacci sequence will start with the value of 0 and 1.\n",
    "        3.This function will return the n-th value from fibonacci sequence.\n",
    "\n",
    "example:\n",
    "\n",
    "|Fibo_Seq|0|1|1|2|3|4|8|13|21|34|55|...|\n",
    "| - | - | - | - | - | - | - | - | - | - | - | - | - |\n",
    "|n-th|0|1|2|3|4|5|6|7|8|9|10|...|\n",
    "\n",
    "        -Input: my_function(n=0)\n",
    "        -Output: 0\n",
    "        -Input: my_function(n=4)\n",
    "        -Output: 3\n",
    "        -Input: my_function(n=10)\n",
    "        -Output: 55\n"
   ]
  }
 ],
 "metadata": {
  "kernelspec": {
   "display_name": "base",
   "language": "python",
   "name": "python3"
  },
  "language_info": {
   "codemirror_mode": {
    "name": "ipython",
    "version": 3
   },
   "file_extension": ".py",
   "mimetype": "text/x-python",
   "name": "python",
   "nbconvert_exporter": "python",
   "pygments_lexer": "ipython3",
   "version": "3.12.2"
  }
 },
 "nbformat": 4,
 "nbformat_minor": 2
}
